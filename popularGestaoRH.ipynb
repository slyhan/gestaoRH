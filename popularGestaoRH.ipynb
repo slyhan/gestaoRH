{
 "cells": [
  {
   "cell_type": "code",
   "execution_count": 1,
   "id": "cc4649e6",
   "metadata": {},
   "outputs": [],
   "source": [
    "import mysql.connector\n",
    "from faker import Faker\n",
    "import random\n",
    "from datetime import datetime"
   ]
  },
  {
   "cell_type": "code",
   "execution_count": null,
   "id": "ad71c9d1",
   "metadata": {},
   "outputs": [],
   "source": [
    "# Conectar ao banco de dados\n",
    "conn = mysql.connector.connect(\n",
    "    host='localhost',       # nome por padrão se o seu tiver outro, tem que trocar\n",
    "    user='root',            # nome por padrão se o seu tiver outro, tem que trocar\n",
    "    password='',    \t    # sua senha \n",
    "    database='gestaorh'     # nome do seu banco de dados\n",
    ")\n",
    "cursor = conn.cursor()\n",
    "\n",
    "fake = Faker('pt_BR')"
   ]
  },
  {
   "cell_type": "code",
   "execution_count": 3,
   "id": "3f4a2fc9",
   "metadata": {},
   "outputs": [],
   "source": [
    "# Inserir Departamentos\n",
    "departamento = ['Recursos Humanos', 'Financeiro', 'TI', 'Marketing', 'Vendas']\n",
    "for nome in departamento:\n",
    "    descricao = f'Departamento de {nome}'\n",
    "    cursor.execute(\"INSERT INTO Departamento (nome, descricao) VALUES (%s, %s)\", (nome, descricao))\n"
   ]
  },
  {
   "cell_type": "code",
   "execution_count": 4,
   "id": "6ddac8dc",
   "metadata": {},
   "outputs": [],
   "source": [
    "# Inserir Cargos\n",
    "cargo = [\n",
    "    ('Analista de RH', 3500.00),\n",
    "    ('Assistente Financeiro', 2800.00),\n",
    "    ('Desenvolvedor Back-end', 5000.00),\n",
    "    ('Analista de Marketing', 4000.00),\n",
    "    ('Executivo de Vendas', 4500.00)\n",
    "]\n",
    "for nome, salarioBase in cargo:\n",
    "    descricao = f'Responsável por {nome}'\n",
    "    cursor.execute(\"INSERT INTO Cargo (nome, descricao, salarioBase) VALUES (%s, %s, %s)\", (nome, descricao, salarioBase))\n",
    "\n",
    "conn.commit()"
   ]
  },
  {
   "cell_type": "code",
   "execution_count": 5,
   "id": "7e5efb3c",
   "metadata": {},
   "outputs": [],
   "source": [
    "# Inserir Funcionários\n",
    "for _ in range(100):\n",
    "    nome = fake.name()\n",
    "    cpf = fake.cpf().replace('.', '').replace('-', '')\n",
    "    dataNasc = fake.date_of_birth(minimum_age=20, maximum_age=50)\n",
    "    sexo = random.choice(['M', 'F'])\n",
    "    email = fake.email()\n",
    "    telefone = fake.phone_number().replace('(','').replace(')', '').replace('+', '').replace( ' ', '').replace('55', '')\n",
    "    dataAdmissao = fake.date_between(start_date='-10y', end_date='today')\n",
    "    idCargo = random.randint(1, len(cargo))\n",
    "    idDepart = random.randint(1, len(departamento))\n",
    "    salarioAtual = round(random.uniform(2500, 7000), 2)\n",
    "\n",
    "    cursor.execute(\"\"\"\n",
    "        INSERT INTO Funcionarios \n",
    "        (nome, cpf, dataNasc, sexo, email, telefone, dataAdmissao, idCargo, idDepart, salarioAtual) \n",
    "        VALUES (%s, %s, %s, %s, %s, %s, %s, %s, %s, %s)\n",
    "    \"\"\", (nome, cpf, dataNasc, sexo, email, telefone, dataAdmissao, idCargo, idDepart, salarioAtual))\n",
    "\n",
    "conn.commit()"
   ]
  },
  {
   "cell_type": "code",
   "execution_count": 6,
   "id": "f8b96560",
   "metadata": {},
   "outputs": [],
   "source": [
    "# Obter IDs de funcionários\n",
    "cursor.execute(\"SELECT idFuncionario FROM Funcionarios\")\n",
    "func_ids = [row[0] for row in cursor.fetchall()]\n",
    "\n",
    "# Inserir Histórico Salarial\n",
    "for func_id in func_ids:\n",
    "    num_historico = random.randint(1, 3)\n",
    "    salario = round(random.uniform(2500, 7000), 2)\n",
    "    for _ in range(num_historico):\n",
    "        dataAlteracao = fake.date_between(start_date='-5y', end_date='today')\n",
    "        motivo = random.choice(['Promoção', 'Reajuste', 'Admissão'])\n",
    "        cursor.execute(\"\"\"\n",
    "            INSERT INTO historicosalarial (idFuncionario, salario, dataAlteracao, motivo) \n",
    "            VALUES (%s, %s, %s, %s)\n",
    "        \"\"\", (func_id, salario, dataAlteracao, motivo))\n",
    "        salario += round(random.uniform(100, 500), 2)\n",
    "\n",
    "conn.commit()"
   ]
  },
  {
   "cell_type": "code",
   "execution_count": 7,
   "id": "44cf686d",
   "metadata": {},
   "outputs": [
    {
     "name": "stdout",
     "output_type": "stream",
     "text": [
      "Dados inseridos com sucesso!\n"
     ]
    }
   ],
   "source": [
    "# Inserir Avaliações\n",
    "for func_id in func_ids:\n",
    "    num_avaliacoes = random.randint(1, 3)\n",
    "    for _ in range(num_avaliacoes):\n",
    "        dataAvaliacao = fake.date_between(start_date='-3y', end_date='today')\n",
    "        nota = round(random.uniform(3.0, 5.0), 2)\n",
    "        comentario = fake.sentence()\n",
    "        avaliador = fake.name()\n",
    "        cursor.execute(\"\"\"\n",
    "            INSERT INTO Avaliacao (idFuncionario, dataAvaliacao, nota, comentario, avaliador) \n",
    "            VALUES (%s, %s, %s, %s, %s)\n",
    "        \"\"\", (func_id, dataAvaliacao, nota, comentario, avaliador))\n",
    "\n",
    "conn.commit()\n",
    "\n",
    "cursor.close()\n",
    "conn.close()\n",
    "\n",
    "print(\"Dados inseridos com sucesso!\")"
   ]
  }
 ],
 "metadata": {
  "kernelspec": {
   "display_name": "Python 3",
   "language": "python",
   "name": "python3"
  },
  "language_info": {
   "codemirror_mode": {
    "name": "ipython",
    "version": 3
   },
   "file_extension": ".py",
   "mimetype": "text/x-python",
   "name": "python",
   "nbconvert_exporter": "python",
   "pygments_lexer": "ipython3",
   "version": "3.12.4"
  }
 },
 "nbformat": 4,
 "nbformat_minor": 5
}
